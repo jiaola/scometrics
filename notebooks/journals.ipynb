{
 "cells": [
  {
   "cell_type": "code",
   "execution_count": 355,
   "metadata": {},
   "outputs": [],
   "source": [
    "from pyspark.sql import SparkSession\n",
    "from pyspark.sql.functions import *\n",
    "from pyspark.sql.types import *\n",
    "import os\n",
    "\n",
    "memory = '8g'\n",
    "pyspark_submit_args = ' --driver-memory ' + memory + ' pyspark-shell'\n",
    "os.environ[\"PYSPARK_SUBMIT_ARGS\"] = pyspark_submit_args"
   ]
  },
  {
   "cell_type": "markdown",
   "metadata": {},
   "source": [
    "Start a new spark session. "
   ]
  },
  {
   "cell_type": "code",
   "execution_count": 356,
   "metadata": {},
   "outputs": [],
   "source": [
    "spark = SparkSession \\\n",
    "    .builder \\\n",
    "    .appName(\"myApp\") \\\n",
    "    .config(\"spark.mongodb.input.uri\", \"mongodb://127.0.0.1/scopus.author\") \\\n",
    "    .config(\"spark.mongodb.output.uri\", \"mongodb://127.0.0.1/scopus.author\") \\\n",
    "    .getOrCreate()"
   ]
  },
  {
   "cell_type": "markdown",
   "metadata": {},
   "source": [
    "Extract document(articles) from MongoDB. "
   ]
  },
  {
   "cell_type": "code",
   "execution_count": 357,
   "metadata": {},
   "outputs": [],
   "source": [
    "df = spark.read.format(\"com.mongodb.spark.sql.DefaultSource\").option('uri', 'mongodb://127.0.0.1/scopus.document').load()"
   ]
  },
  {
   "cell_type": "markdown",
   "metadata": {},
   "source": [
    "Create a view to be used with Spark SQL. "
   ]
  },
  {
   "cell_type": "code",
   "execution_count": 358,
   "metadata": {},
   "outputs": [],
   "source": [
    "df.createOrReplaceTempView(\"document\")"
   ]
  },
  {
   "cell_type": "markdown",
   "metadata": {},
   "source": [
    "Read serial data from MongoDB. "
   ]
  },
  {
   "cell_type": "code",
   "execution_count": 359,
   "metadata": {},
   "outputs": [],
   "source": [
    "s_df = spark.read.format(\"com.mongodb.spark.sql.DefaultSource\").option('uri', 'mongodb://127.0.0.1/scopus.serial').load()\n",
    "s_df.createOrReplaceTempView(\"serial\")\n",
    "serial_df = spark.sql('''\n",
    "    SELECT `source-id` AS serial_id, `dc:title` AS serial, `prism:issn` AS serial_issn, `prism:eIssn` AS serial_eissn, openaccess As open_access\n",
    "    FROM serial\n",
    "    WHERE `prism:aggregationType` = 'journal'\n",
    "''')\n",
    "serial_df = serial_df.withColumn('serial_lc', lower(col('serial')))"
   ]
  },
  {
   "cell_type": "markdown",
   "metadata": {},
   "source": [
    "Check a few samples. "
   ]
  },
  {
   "cell_type": "code",
   "execution_count": 360,
   "metadata": {},
   "outputs": [
    {
     "name": "stdout",
     "output_type": "stream",
     "text": [
      "+-----------+------------------------------------------+-----------+------------+-----------+------------------------------------------+\n",
      "|serial_id  |serial                                    |serial_issn|serial_eissn|open_access|serial_lc                                 |\n",
      "+-----------+------------------------------------------+-----------+------------+-----------+------------------------------------------+\n",
      "|10000153402|Scandinavian Journal of Management Studies|0281-7527  |null        |0          |scandinavian journal of management studies|\n",
      "|1000147123 |Business: Theory and Practice             |1648-0627  |1822-4202   |1          |business: theory and practice             |\n",
      "|100141     |Journal of Field Archaeology              |0093-4690  |2042-4582   |null       |journal of field archaeology              |\n",
      "|100147030  |Current Sociology                         |0011-3921  |1461-7064   |null       |current sociology                         |\n",
      "|100147316  |Business Strategy Review                  |0955-6419  |1467-8616   |null       |business strategy review                  |\n",
      "+-----------+------------------------------------------+-----------+------------+-----------+------------------------------------------+\n",
      "only showing top 5 rows\n",
      "\n"
     ]
    }
   ],
   "source": [
    "serial_df.show(5, False)"
   ]
  },
  {
   "cell_type": "markdown",
   "metadata": {},
   "source": [
    "## Analysis of references\n",
    "\n",
    "Extract journal titles in where references were published. "
   ]
  },
  {
   "cell_type": "code",
   "execution_count": 361,
   "metadata": {},
   "outputs": [],
   "source": [
    "ref_journal_df = spark.sql('''\n",
    "    SELECT references[\"sourcetitle\"] AS ref_journal, references['title'] AS ref_title\n",
    "    FROM document \n",
    "    WHERE \n",
    "        coredata[\"prism:aggregationType\"]=\"Journal\"\n",
    "''')"
   ]
  },
  {
   "cell_type": "markdown",
   "metadata": {},
   "source": [
    "Scopus is not very consistent when a reference is a monograph. Sometimes, the sourcetitle field is 'null'; sometimes, the title field is 'null'; sometimes, they both are not null but are the same (note, convert case first). Therefore, we keep only the references with different sourcetitle and title. To do that, first we define a UDF (user defined function) helper. "
   ]
  },
  {
   "cell_type": "code",
   "execution_count": 362,
   "metadata": {},
   "outputs": [],
   "source": [
    "def my_zip(x, y):\n",
    "    if isinstance(x, list) and isinstance(y, list):\n",
    "        return zip(x, y)\n",
    "    else:\n",
    "        return [x, y]\n",
    "zip_ = udf(\n",
    "  lambda x, y: list(my_zip(x, y)),\n",
    "  ArrayType(StructType([\n",
    "      # Adjust types to reflect data types\n",
    "      StructField(\"first\", StringType()),\n",
    "      StructField(\"second\", StringType())\n",
    "  ]))\n",
    ")"
   ]
  },
  {
   "cell_type": "markdown",
   "metadata": {},
   "source": [
    "Now we use the zip_ udf to list source title and title in two separate columns and filter the data frame. "
   ]
  },
  {
   "cell_type": "code",
   "execution_count": 363,
   "metadata": {},
   "outputs": [],
   "source": [
    "ref_journal_df = ref_journal_df.withColumn(\"tmp\", zip_(\"ref_journal\", \"ref_title\"))\\\n",
    "    .withColumn(\"tmp\", explode(\"tmp\"))\\\n",
    "    .select(col(\"tmp.first\").alias(\"ref_journal\"), col(\"tmp.second\").alias(\"ref_title\"))\n",
    "ref_journal_df = ref_journal_df.withColumn('ref_journal', ref_journal_df.ref_journal.cast(StringType()))\n",
    "ref_journal_df = ref_journal_df.withColumn('ref_title', ref_journal_df.ref_title.cast(StringType()))\n",
    "ref_journal_df = ref_journal_df.withColumn('ref_journal_lc', lower(col('ref_journal')))\n",
    "ref_journal_df = ref_journal_df.withColumn('ref_title_lc', lower(col('ref_title')))\n",
    "ref_journal_df = ref_journal_df\\\n",
    "    .filter(\"ref_journal_lc!='null'\" and \"ref_title_lc!='null'\" and 'ref_journal_lc!=ref_title_lc')\\\n",
    "    .select('ref_journal', 'ref_journal_lc').filter(\"ref_journal_lc!='null'\")"
   ]
  },
  {
   "cell_type": "markdown",
   "metadata": {},
   "source": [
    "Check a few samples. "
   ]
  },
  {
   "cell_type": "code",
   "execution_count": 364,
   "metadata": {},
   "outputs": [
    {
     "name": "stdout",
     "output_type": "stream",
     "text": [
      "+--------------------------+--------------------------+\n",
      "|ref_journal               |ref_journal_lc            |\n",
      "+--------------------------+--------------------------+\n",
      "|Health                    |health                    |\n",
      "|Health                    |health                    |\n",
      "|Social Policy and Society |social policy and society |\n",
      "|Theory, Culture & Society |theory, culture & society |\n",
      "|Journal of Political Power|journal of political power|\n",
      "+--------------------------+--------------------------+\n",
      "only showing top 5 rows\n",
      "\n"
     ]
    }
   ],
   "source": [
    "ref_journal_df.show(5, False)"
   ]
  },
  {
   "cell_type": "markdown",
   "metadata": {},
   "source": [
    "Count the times that journals were cited. Sort them by cited. Count the number of reference journals. "
   ]
  },
  {
   "cell_type": "code",
   "execution_count": 365,
   "metadata": {},
   "outputs": [
    {
     "name": "stdout",
     "output_type": "stream",
     "text": [
      "+-------------------------------------------------------------------------------+-------------------------------------------------------------------------------+-----+\n",
      "|ref_journal                                                                    |ref_journal_lc                                                                 |count|\n",
      "+-------------------------------------------------------------------------------+-------------------------------------------------------------------------------+-----+\n",
      "|Astrophysical Journal                                                          |astrophysical journal                                                          |1249 |\n",
      "|New England Journal of Medicine                                                |new england journal of medicine                                                |774  |\n",
      "|Nature                                                                         |nature                                                                         |768  |\n",
      "|Proceedings of the National Academy of Sciences of the United States of America|proceedings of the national academy of sciences of the united states of america|712  |\n",
      "|Science                                                                        |science                                                                        |696  |\n",
      "+-------------------------------------------------------------------------------+-------------------------------------------------------------------------------+-----+\n",
      "only showing top 5 rows\n",
      "\n",
      "Unique Reference Journals:  9552\n"
     ]
    }
   ],
   "source": [
    "ref_journal_df = ref_journal_df.groupBy(['ref_journal', 'ref_journal_lc']).count().sort('count', ascending=False)\n",
    "ref_journal_df.show(5, False)\n",
    "print(\"Unique Reference Journals: \", ref_journal_df.count())"
   ]
  },
  {
   "cell_type": "markdown",
   "metadata": {},
   "source": [
    "Use inner join to join the data frames to create a dataframe of ref journals with issn. "
   ]
  },
  {
   "cell_type": "code",
   "execution_count": 366,
   "metadata": {},
   "outputs": [],
   "source": [
    "ref_journal_df = ref_journal_df.join(serial_df, ref_journal_df.ref_journal_lc == serial_df.serial_lc, 'inner')"
   ]
  },
  {
   "cell_type": "markdown",
   "metadata": {},
   "source": [
    "Show samples. There are less rows in the dataframe. This is because many rows were not serials. They might be monographs or conference proceedings. "
   ]
  },
  {
   "cell_type": "code",
   "execution_count": 367,
   "metadata": {},
   "outputs": [
    {
     "name": "stdout",
     "output_type": "stream",
     "text": [
      "+-----------+----------------------------------+----------------------------------+-----------+------------+-----------+-----+\n",
      "|serial_id  |ref_journal                       |ref_journal_lc                    |serial_issn|serial_eissn|open_access|count|\n",
      "+-----------+----------------------------------+----------------------------------+-----------+------------+-----------+-----+\n",
      "|27065      |Accident and Emergency Nursing    |accident and emergency nursing    |0965-2302  |null        |0          |1    |\n",
      "|24710      |Annals of Applied Probability     |annals of applied probability     |1050-5164  |null        |null       |3    |\n",
      "|13600154724|Biomicrofluidics                  |biomicrofluidics                  |1932-1058  |null        |null       |1    |\n",
      "|13643      |BMC Ear, Nose and Throat Disorders|bmc ear, nose and throat disorders|1472-6815  |null        |1          |1    |\n",
      "|12599      |Breast Journal                    |breast journal                    |1075-122X  |1524-4741   |null       |2    |\n",
      "+-----------+----------------------------------+----------------------------------+-----------+------------+-----------+-----+\n",
      "only showing top 5 rows\n",
      "\n"
     ]
    },
    {
     "data": {
      "text/plain": [
       "6082"
      ]
     },
     "execution_count": 367,
     "metadata": {},
     "output_type": "execute_result"
    }
   ],
   "source": [
    "ref_journal_df = ref_journal_df.select('serial_id', 'ref_journal', 'ref_journal_lc', 'serial_issn', 'serial_eissn', 'open_access', 'count')\n",
    "ref_journal_df.show(5, False)\n",
    "ref_journal_df.count()"
   ]
  },
  {
   "cell_type": "markdown",
   "metadata": {},
   "source": [
    "Load journals that JHU has subscribed - This data is exported from 360 SS RM. "
   ]
  },
  {
   "cell_type": "code",
   "execution_count": 368,
   "metadata": {},
   "outputs": [
    {
     "name": "stdout",
     "output_type": "stream",
     "text": [
      "+------------------------------------------------------------+---------+---------+\n",
      "|Title                                                       |ISSN     |eISSN    |\n",
      "+------------------------------------------------------------+---------+---------+\n",
      "|government health it                                        |null     |null     |\n",
      "|environmental geosciences                                   |1075-9565|1526-0984|\n",
      "|aapg bulletin                                               |0149-1423|1558-9153|\n",
      "|american association of petroleum geologists bulletin       |0002-7464|null     |\n",
      "|bulletin of the american association of petroleum geologists|0883-9247|null     |\n",
      "+------------------------------------------------------------+---------+---------+\n",
      "only showing top 5 rows\n",
      "\n",
      "Total Subscription:  265408\n",
      "Total Subscription After Duplicates Dropped:  163756\n"
     ]
    }
   ],
   "source": [
    "ss_df = spark.read.format(\"csv\").option(\"header\", \"true\").load('../data/Tracked_eJournals_JHE-2018-04-30-66826.csv')\n",
    "exprs = [col(column).alias(column.replace(' ', '_').replace('-', '_')) for column in ss_df.columns]\n",
    "ss_df = ss_df.select(*exprs).select('Title', 'ISSN', 'eISSN').withColumn('Title', lower(col('Title'))).withColumn('Title', regexp_replace('Title', '&', 'and'))\n",
    "ss_df.show(5, False)\n",
    "print('Total Subscription: ', ss_df.count())\n",
    "ss_df = ss_df.dropDuplicates()\n",
    "print('Total Subscription After Duplicates Dropped: ', ss_df.count())"
   ]
  },
  {
   "cell_type": "code",
   "execution_count": 369,
   "metadata": {},
   "outputs": [
    {
     "name": "stdout",
     "output_type": "stream",
     "text": [
      "+-----------+----------------------------------+----------------------------------+-----------+------------+-----------+-----+-----------------------------------+---------+---------+\n",
      "|serial_id  |ref_journal                       |ref_journal_lc                    |serial_issn|serial_eissn|open_access|count|Title                              |ISSN     |eISSN    |\n",
      "+-----------+----------------------------------+----------------------------------+-----------+------------+-----------+-----+-----------------------------------+---------+---------+\n",
      "|27065      |Accident and Emergency Nursing    |accident and emergency nursing    |0965-2302  |null        |0          |1    |accident and emergency nursing     |0965-2302|1532-9267|\n",
      "|24710      |Annals of Applied Probability     |annals of applied probability     |1050-5164  |null        |null       |3    |annals of applied probability      |1050-5164|2168-8737|\n",
      "|13600154724|Biomicrofluidics                  |biomicrofluidics                  |1932-1058  |null        |null       |1    |biomicrofluidics                   |null     |1932-1058|\n",
      "|13643      |BMC Ear, Nose and Throat Disorders|bmc ear, nose and throat disorders|1472-6815  |null        |1          |1    |bmc ear, nose, and throat disorders|null     |1472-6815|\n",
      "|13643      |BMC Ear, Nose and Throat Disorders|bmc ear, nose and throat disorders|1472-6815  |null        |1          |1    |bmc ear, nose and throat disorders |null     |1472-6815|\n",
      "+-----------+----------------------------------+----------------------------------+-----------+------------+-----------+-----+-----------------------------------+---------+---------+\n",
      "only showing top 5 rows\n",
      "\n"
     ]
    }
   ],
   "source": [
    "ref_journal_df = ref_journal_df.join(ss_df, \n",
    "    (ref_journal_df.ref_journal_lc==ss_df.Title)|((ref_journal_df.serial_issn!='null')&((ref_journal_df.serial_issn==ss_df.ISSN)|(ref_journal_df.serial_issn==ss_df.eISSN)))|((ref_journal_df.serial_eissn!='null')&((ref_journal_df.serial_eissn==ss_df.eISSN)|(ref_journal_df.serial_eissn==ss_df.ISSN))),\n",
    "    \"left_outer\")\n",
    "ref_journal_df.show(5, False)"
   ]
  },
  {
   "cell_type": "markdown",
   "metadata": {},
   "source": [
    "List the top 25 most cited but not subscribed journal titles. However, this list needs to be curated since the subscription data from SerialSolutions is not reliable. "
   ]
  },
  {
   "cell_type": "code",
   "execution_count": 370,
   "metadata": {},
   "outputs": [
    {
     "name": "stdout",
     "output_type": "stream",
     "text": [
      "+-----------+---------------------------------------------+-----------+------------+-----------+-----+\n",
      "|serial_id  |ref_journal                                  |serial_issn|serial_eissn|open_access|count|\n",
      "+-----------+---------------------------------------------+-----------+------------+-----------+-----+\n",
      "|32522      |American Review of Respiratory Disease       |0003-0805  |null        |null       |14   |\n",
      "|19700188217|Bioanalysis                                  |1757-6180  |1757-6199   |null       |11   |\n",
      "|23853      |Journal of Clinical Hypertension             |1524-6175  |1751-7176   |null       |10   |\n",
      "|17600155130|NCHS data brief                              |1941-4935  |1941-4927   |null       |10   |\n",
      "|21100773752|Nature Microbiology                          |null       |2058-5276   |null       |10   |\n",
      "|130029     |Journal of Sexual Medicine                   |1743-6095  |1743-6109   |0          |9    |\n",
      "|3600148103 |Sexual Health                                |1448-5028  |1449-8987   |null       |8    |\n",
      "|21100812579|Nature Energy                                |null       |2058-7546   |null       |7    |\n",
      "|23072      |Clinical Cardiology                          |0160-9289  |1932-8737   |null       |6    |\n",
      "|20438      |Bulletin of the American College of Surgeons |0002-8045  |null        |null       |6    |\n",
      "|28074      |International Journal of Modern Physics D    |0218-2718  |1793-6594   |null       |6    |\n",
      "|4000148203 |Handbook of Experimental Pharmacology        |0171-2004  |null        |null       |5    |\n",
      "|19671      |Current Topics in Microbiology and Immunology|0070-217X  |2196-9965   |null       |5    |\n",
      "|21100780831|Nature Reviews Disease Primers               |null       |2056-676X   |null       |5    |\n",
      "|19667      |Current Molecular Medicine                   |1566-5240  |1875-5666   |null       |5    |\n",
      "|19979      |Arzneimittel-Forschung/Drug Research         |0004-4172  |1616-7066   |null       |4    |\n",
      "|4700151916 |Zootaxa                                      |1175-5326  |null        |null       |4    |\n",
      "|11600154092|Current Protocols in Bioinformatics          |1934-3396  |1934-340X   |null       |4    |\n",
      "|13601      |Journal of the American Academy of Audiology |1050-0545  |2157-3107   |null       |4    |\n",
      "|19900192609|Conservation Evidence                        |1758-2067  |null        |1          |3    |\n",
      "|13193      |Ethiopian Medical Journal                    |0014-1755  |null        |null       |3    |\n",
      "|60978      |Human Evolution                              |0393-9375  |null        |null       |3    |\n",
      "|23091      |Congestive Heart Failure                     |1527-5299  |1751-7133   |null       |3    |\n",
      "|21100773739|Materials Research Letters                   |null       |2166-3831   |1          |3    |\n",
      "|21100382461|Current protocols in chemical biology        |2160-4762  |null        |null       |3    |\n",
      "+-----------+---------------------------------------------+-----------+------------+-----------+-----+\n",
      "only showing top 25 rows\n",
      "\n"
     ]
    },
    {
     "data": {
      "text/plain": [
       "258"
      ]
     },
     "execution_count": 370,
     "metadata": {},
     "output_type": "execute_result"
    }
   ],
   "source": [
    "cited_not_subscribed = ref_journal_df.filter(ref_journal_df.Title.isNull())\n",
    "cited_not_subscribed.select('serial_id', 'ref_journal', 'serial_issn', 'serial_eissn', 'open_access', 'count')\\\n",
    "    .sort('count', ascending=False).show(25, False)\n",
    "cited_not_subscribed.count()"
   ]
  },
  {
   "cell_type": "markdown",
   "metadata": {},
   "source": [
    "## Analysis of Journals of JHU publications"
   ]
  },
  {
   "cell_type": "markdown",
   "metadata": {},
   "source": [
    "Extract journal titles that the articles were published in. "
   ]
  },
  {
   "cell_type": "code",
   "execution_count": 371,
   "metadata": {},
   "outputs": [],
   "source": [
    "journal_df = spark.sql('''\n",
    "    SELECT coredata[\"source-id\"] AS journal_id, coredata[\"prism:publicationName\"] AS journal\n",
    "    FROM document \n",
    "    WHERE coredata[\"prism:aggregationType\"]=\"Journal\"\n",
    "''')\n",
    "journal_df = journal_df.withColumn('journal_lc', lower(col('journal')))"
   ]
  },
  {
   "cell_type": "markdown",
   "metadata": {},
   "source": [
    "Check with some samples. "
   ]
  },
  {
   "cell_type": "code",
   "execution_count": 372,
   "metadata": {},
   "outputs": [
    {
     "name": "stdout",
     "output_type": "stream",
     "text": [
      "+----------+---------------------------------+---------------------------------+\n",
      "|journal_id|journal                          |journal_lc                       |\n",
      "+----------+---------------------------------+---------------------------------+\n",
      "|20830     |Health (United Kingdom)          |health (united kingdom)          |\n",
      "|18011     |Neuropsychological Rehabilitation|neuropsychological rehabilitation|\n",
      "|12260     |Journal of Pediatric Orthopaedics|journal of pediatric orthopaedics|\n",
      "|15962     |Journal of Medical Ethics        |journal of medical ethics        |\n",
      "|145172    |Behavioral Sleep Medicine        |behavioral sleep medicine        |\n",
      "+----------+---------------------------------+---------------------------------+\n",
      "only showing top 5 rows\n",
      "\n"
     ]
    }
   ],
   "source": [
    "journal_df.show(5, False)"
   ]
  },
  {
   "cell_type": "markdown",
   "metadata": {},
   "source": [
    "Count the times that journals were published in. Sort them by times published. "
   ]
  },
  {
   "cell_type": "code",
   "execution_count": 373,
   "metadata": {},
   "outputs": [
    {
     "name": "stdout",
     "output_type": "stream",
     "text": [
      "+-------------------------------------------------------------------------------+-----+\n",
      "|journal                                                                        |count|\n",
      "+-------------------------------------------------------------------------------+-----+\n",
      "|Astrophysical Journal                                                          |45   |\n",
      "|PLoS ONE                                                                       |41   |\n",
      "|Monthly Notices of the Royal Astronomical Society                              |31   |\n",
      "|Proceedings of the National Academy of Sciences of the United States of America|22   |\n",
      "|Scientific Reports                                                             |19   |\n",
      "+-------------------------------------------------------------------------------+-----+\n",
      "only showing top 5 rows\n",
      "\n",
      "Unique Journals:  1332\n"
     ]
    }
   ],
   "source": [
    "journal_df = journal_df.groupBy(['journal', 'journal_lc']).count().sort('count', ascending=0)\n",
    "journal_df.select('journal', 'count').show(5, False)\n",
    "print(\"Unique Journals: \", journal_df.count())"
   ]
  },
  {
   "cell_type": "markdown",
   "metadata": {},
   "source": [
    "Join the serial dataframe to add ISSN to the dataframe. "
   ]
  },
  {
   "cell_type": "code",
   "execution_count": 374,
   "metadata": {},
   "outputs": [],
   "source": [
    "journal_df = journal_df.join(serial_df, journal_df.journal_lc == serial_df.serial_lc, 'inner')"
   ]
  },
  {
   "cell_type": "markdown",
   "metadata": {},
   "source": [
    "Show samples. Dropped a few titles. They are not journals (not in serials).  "
   ]
  },
  {
   "cell_type": "code",
   "execution_count": 375,
   "metadata": {},
   "outputs": [
    {
     "name": "stdout",
     "output_type": "stream",
     "text": [
      "+-----------+--------------------------------+--------------------------------+-----------+------------+-----------+-----+\n",
      "|serial_id  |journal                         |journal_lc                      |serial_issn|serial_eissn|open_access|count|\n",
      "+-----------+--------------------------------+--------------------------------+-----------+------------+-----------+-----+\n",
      "|24267      |British Journal of Dermatology  |british journal of dermatology  |0007-0963  |1365-2133   |null       |2    |\n",
      "|13736      |British Journal of Ophthalmology|british journal of ophthalmology|0007-1161  |1468-2079   |null       |1    |\n",
      "|25465      |Current Diabetes Reports        |current diabetes reports        |1534-4827  |1539-0829   |null       |1    |\n",
      "|18458      |European Respiratory Journal    |european respiratory journal    |0903-1936  |1399-3003   |null       |2    |\n",
      "|21100407195|Optica                          |optica                          |2334-2536  |null        |1          |1    |\n",
      "+-----------+--------------------------------+--------------------------------+-----------+------------+-----------+-----+\n",
      "only showing top 5 rows\n",
      "\n"
     ]
    },
    {
     "data": {
      "text/plain": [
       "1281"
      ]
     },
     "execution_count": 375,
     "metadata": {},
     "output_type": "execute_result"
    }
   ],
   "source": [
    "journal_df = journal_df.select('serial_id', 'journal', 'journal_lc', 'serial_issn', 'serial_eissn', 'open_access', 'count')\n",
    "journal_df.show(5, False)\n",
    "journal_df.count()"
   ]
  },
  {
   "cell_type": "markdown",
   "metadata": {},
   "source": [
    "Join the data with "
   ]
  },
  {
   "cell_type": "code",
   "execution_count": 376,
   "metadata": {},
   "outputs": [],
   "source": [
    "journal_df = journal_df.join(ss_df,\n",
    "    (journal_df.journal_lc==ss_df.Title)|((journal_df.serial_issn!='null')&((journal_df.serial_issn==ss_df.ISSN)|(journal_df.serial_issn==ss_df.eISSN)))|((journal_df.serial_eissn!='null')&((journal_df.serial_eissn==ss_df.eISSN)|(journal_df.serial_eissn==ss_df.ISSN))),\n",
    "    \"left_outer\")"
   ]
  },
  {
   "cell_type": "code",
   "execution_count": 377,
   "metadata": {
    "collapsed": true
   },
   "outputs": [
    {
     "name": "stdout",
     "output_type": "stream",
     "text": [
      "+---------+--------------------------------+--------------------------------+-----------+------------+-----------+-----+--------------------------------+---------+---------+\n",
      "|serial_id|journal                         |journal_lc                      |serial_issn|serial_eissn|open_access|count|Title                           |ISSN     |eISSN    |\n",
      "+---------+--------------------------------+--------------------------------+-----------+------------+-----------+-----+--------------------------------+---------+---------+\n",
      "|24267    |British Journal of Dermatology  |british journal of dermatology  |0007-0963  |1365-2133   |null       |2    |british journal of dermatology  |null     |null     |\n",
      "|24267    |British Journal of Dermatology  |british journal of dermatology  |0007-0963  |1365-2133   |null       |2    |british journal of dermatology  |0007-0963|1365-2133|\n",
      "|13736    |British Journal of Ophthalmology|british journal of ophthalmology|0007-1161  |1468-2079   |null       |1    |british journal of ophthalmology|0007-1161|1468-2079|\n",
      "|25465    |Current Diabetes Reports        |current diabetes reports        |1534-4827  |1539-0829   |null       |1    |current diabetes reports        |1534-4827|1539-0829|\n",
      "|18458    |European Respiratory Journal    |european respiratory journal    |0903-1936  |1399-3003   |null       |2    |european respiratory journal    |0903-1936|1399-3003|\n",
      "+---------+--------------------------------+--------------------------------+-----------+------------+-----------+-----+--------------------------------+---------+---------+\n",
      "only showing top 5 rows\n",
      "\n"
     ]
    }
   ],
   "source": [
    "journal_df.show(5, False)"
   ]
  },
  {
   "cell_type": "markdown",
   "metadata": {},
   "source": [
    "Show journals that were published in but not subscribed"
   ]
  },
  {
   "cell_type": "code",
   "execution_count": 378,
   "metadata": {
    "scrolled": true
   },
   "outputs": [
    {
     "name": "stdout",
     "output_type": "stream",
     "text": [
      "+-----------+--------------------------------------------------------------------------------------+-----------+------------+-----------+-----+\n",
      "|serial_id  |journal                                                                               |serial_issn|serial_eissn|open_access|count|\n",
      "+-----------+--------------------------------------------------------------------------------------+-----------+------------+-----------+-----+\n",
      "|21100454916|Abdominal Radiology                                                                   |2366-004X  |2366-0058   |null       |2    |\n",
      "|21100773739|Materials Research Letters                                                            |null       |2166-3831   |1          |2    |\n",
      "|23853      |Journal of Clinical Hypertension                                                      |1524-6175  |1751-7176   |null       |2    |\n",
      "|12358      |International Journal of Fuzzy Systems                                                |1562-2479  |2199-3211   |null       |1    |\n",
      "|26205      |Minerva Endocrinologica                                                               |0391-1977  |1827-1634   |null       |1    |\n",
      "|21100773821|Computer Methods in Biomechanics and Biomedical Engineering: Imaging and Visualization|2168-1163  |2168-1171   |null       |1    |\n",
      "|19900193807|Gerontechnology                                                                       |1569-1101  |1569-111X   |null       |1    |\n",
      "|21100451398|Asia-Pacific Journal of Ophthalmology                                                 |2162-0989  |null        |null       |1    |\n",
      "|21100780831|Nature Reviews Disease Primers                                                        |null       |2056-676X   |null       |1    |\n",
      "|21100207001|Discrete and Continuous Dynamical Systems - Series S                                  |1937-1632  |1937-1179   |null       |1    |\n",
      "|19414      |Canadian Journal of Urology                                                           |1195-9479  |null        |null       |1    |\n",
      "|23072      |Clinical Cardiology                                                                   |0160-9289  |1932-8737   |null       |1    |\n",
      "|130029     |Journal of Sexual Medicine                                                            |1743-6095  |1743-6109   |0          |1    |\n",
      "|21100337102|Sexual Medicine Reviews                                                               |null       |2050-0521   |null       |1    |\n",
      "|21100838016|Quarterly Journal of Finance                                                          |2010-1392  |2010-1406   |null       |1    |\n",
      "|14139      |Journal of Clinical Outcomes Management                                               |1079-6533  |null        |null       |1    |\n",
      "|21100773752|Nature Microbiology                                                                   |null       |2058-5276   |null       |1    |\n",
      "+-----------+--------------------------------------------------------------------------------------+-----------+------------+-----------+-----+\n",
      "\n"
     ]
    },
    {
     "data": {
      "text/plain": [
       "17"
      ]
     },
     "execution_count": 378,
     "metadata": {},
     "output_type": "execute_result"
    }
   ],
   "source": [
    "published_not_subscribed = journal_df.filter(journal_df.Title.isNull())\n",
    "published_not_subscribed.select('serial_id', 'journal', 'serial_issn', 'serial_eissn', 'open_access', 'count')\\\n",
    "    .sort('count', ascending=False).show(25, False)\n",
    "published_not_subscribed.count()"
   ]
  }
 ],
 "metadata": {
  "kernelspec": {
   "display_name": "Python 3",
   "language": "python",
   "name": "python3"
  },
  "language_info": {
   "codemirror_mode": {
    "name": "ipython",
    "version": 3
   },
   "file_extension": ".py",
   "mimetype": "text/x-python",
   "name": "python",
   "nbconvert_exporter": "python",
   "pygments_lexer": "ipython3",
   "version": "3.6.5"
  },
  "varInspector": {
   "cols": {
    "lenName": 16.0,
    "lenType": 16.0,
    "lenVar": 40.0
   },
   "kernels_config": {
    "python": {
     "delete_cmd_postfix": "",
     "delete_cmd_prefix": "del ",
     "library": "var_list.py",
     "varRefreshCmd": "print(var_dic_list())"
    },
    "r": {
     "delete_cmd_postfix": ") ",
     "delete_cmd_prefix": "rm(",
     "library": "var_list.r",
     "varRefreshCmd": "cat(var_dic_list()) "
    }
   },
   "position": {
    "height": "206px",
    "left": "1270px",
    "right": "20px",
    "top": "120px",
    "width": "350px"
   },
   "types_to_exclude": [
    "module",
    "function",
    "builtin_function_or_method",
    "instance",
    "_Feature"
   ],
   "window_display": false
  }
 },
 "nbformat": 4,
 "nbformat_minor": 1
}
